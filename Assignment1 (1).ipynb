{
  "metadata": {
    "kernelspec": {
      "name": "python",
      "display_name": "Python (Pyodide)",
      "language": "python"
    },
    "language_info": {
      "codemirror_mode": {
        "name": "python",
        "version": 3
      },
      "file_extension": ".py",
      "mimetype": "text/x-python",
      "name": "python",
      "nbconvert_exporter": "python",
      "pygments_lexer": "ipython3",
      "version": "3.8"
    }
  },
  "nbformat_minor": 5,
  "nbformat": 4,
  "cells": [
    {
      "id": "5b3a6513-0e26-4fd1-9ca2-17e04db7a51c",
      "cell_type": "code",
      "source": "#Importing libraries\nimport numpy as np\nimport pandas as pd\n#Read the csv file\ncars=pd.read_csv('Cars.csv')\n\n# Display shape\nprint(np.shape(cars))\n\n# All columns\ncolumns=cars.columns\nprint('columns:',columns)\n\n#Setup index\nname=cars.set_index('name')\n\n#Unique\nmpg=cars['mpg'].unique()\n\n#New col\ncars['hp']=cars['horsepower']/cars['weight']\ncars.set_index('hp',inplace=True)\nprint(cars)",
      "metadata": {
        "trusted": true
      },
      "outputs": [
        {
          "name": "stdout",
          "output_type": "stream",
          "text": "(398, 9)\ncolumns: Index(['mpg', 'cylinders', 'displacement', 'horsepower', 'weight',\n       'acceleration', 'model_year', 'origin', 'name'],\n      dtype='object')\n           mpg  cylinders  displacement  horsepower  weight  acceleration  \\\nhp                                                                          \n0.037100  18.0          8         307.0       130.0    3504          12.0   \n0.044679  15.0          8         350.0       165.0    3693          11.5   \n0.043655  18.0          8         318.0       150.0    3436          11.0   \n0.043694  16.0          8         304.0       150.0    3433          12.0   \n0.040591  17.0          8         302.0       140.0    3449          10.5   \n...        ...        ...           ...         ...     ...           ...   \n0.030824  27.0          4         140.0        86.0    2790          15.6   \n0.024413  44.0          4          97.0        52.0    2130          24.6   \n0.036601  32.0          4         135.0        84.0    2295          11.6   \n0.030095  28.0          4         120.0        79.0    2625          18.6   \n0.030147  31.0          4         119.0        82.0    2720          19.4   \n\n          model_year  origin                       name  \nhp                                                       \n0.037100          70     usa  chevrolet chevelle malibu  \n0.044679          70     usa          buick skylark 320  \n0.043655          70     usa         plymouth satellite  \n0.043694          70     usa              amc rebel sst  \n0.040591          70     usa                ford torino  \n...              ...     ...                        ...  \n0.030824          82     usa            ford mustang gl  \n0.024413          82  europe                  vw pickup  \n0.036601          82     usa              dodge rampage  \n0.030095          82     usa                ford ranger  \n0.030147          82     usa                 chevy s-10  \n\n[398 rows x 9 columns]\n"
        }
      ],
      "execution_count": 8
    },
    {
      "id": "d7b2c819-7a4a-480e-aa92-b9e2a6828711",
      "cell_type": "code",
      "source": "cars=pd.read_csv('Cars.csv')\ncars_by_year=cars.groupby('model_year')['horsepower'].mean()\nprint(cars_by_year)\ncars_by_year.max()",
      "metadata": {
        "trusted": true
      },
      "outputs": [
        {
          "name": "stdout",
          "output_type": "stream",
          "text": "model_year\n70    147.827586\n71    107.037037\n72    120.178571\n73    130.475000\n74     94.230769\n75    101.066667\n76    101.117647\n77    105.071429\n78     99.694444\n79    101.206897\n80     77.481481\n81     81.035714\n82     81.466667\nName: horsepower, dtype: float64\n"
        },
        {
          "execution_count": 13,
          "output_type": "execute_result",
          "data": {
            "text/plain": "np.float64(147.82758620689654)"
          },
          "metadata": {}
        }
      ],
      "execution_count": 13
    },
    {
      "id": "7b942571-d85d-410c-be33-3f3adf43e95d",
      "cell_type": "code",
      "source": "max_hp=(cars['horsepower'].idxmax())\nmodel=cars.loc[max_hp,'name']\nprint(model)",
      "metadata": {
        "trusted": true
      },
      "outputs": [
        {
          "name": "stdout",
          "output_type": "stream",
          "text": "pontiac grand prix\n"
        }
      ],
      "execution_count": 16
    },
    {
      "id": "b58e2159-9836-4ef4-978a-b65724a8e1fa",
      "cell_type": "code",
      "source": "cars['mpg']=pd.to_numeric(cars['mpg'])\ncount=(cars['mpg']>=35).sum()\nprint(count)\n                          ",
      "metadata": {
        "trusted": true
      },
      "outputs": [
        {
          "name": "stdout",
          "output_type": "stream",
          "text": "36\n"
        }
      ],
      "execution_count": 17
    },
    {
      "id": "d5dbcb8f-4ae7-437f-aae2-8dc1291f6ff5",
      "cell_type": "code",
      "source": "limit=cars[(cars['horsepower']>100)&(cars['weight']<3000)]\norigin=limit['origin'].mode()[0]\nprint(origin)",
      "metadata": {
        "trusted": true
      },
      "outputs": [
        {
          "name": "stdout",
          "output_type": "stream",
          "text": "usa\n"
        }
      ],
      "execution_count": 22
    },
    {
      "id": "e04d7d2c-f14d-46c9-a095-da246f814963",
      "cell_type": "code",
      "source": "country=cars[cars['origin']=='japan']\nmean=country['acceleration'].mean()\nprint(mean)",
      "metadata": {
        "trusted": true
      },
      "outputs": [
        {
          "name": "stdout",
          "output_type": "stream",
          "text": "16.17215189873418\n"
        }
      ],
      "execution_count": 27
    },
    {
      "id": "603c0f40-06ad-4e6b-81cd-8a0ea922bab8",
      "cell_type": "code",
      "source": "",
      "metadata": {
        "trusted": true
      },
      "outputs": [],
      "execution_count": null
    }
  ]
}